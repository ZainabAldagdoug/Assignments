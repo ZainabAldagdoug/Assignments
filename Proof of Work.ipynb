{
 "cells": [
  {
   "cell_type": "code",
   "execution_count": 1,
   "id": "bf1d8e5d-9f04-432c-a59a-b2d23da8b7f2",
   "metadata": {},
   "outputs": [],
   "source": [
    "import hashlib \n",
    "import datetime "
   ]
  },
  {
   "cell_type": "code",
   "execution_count": 2,
   "id": "2aa104c8-1914-4d3d-9637-e330c971bff4",
   "metadata": {},
   "outputs": [
    {
     "name": "stdout",
     "output_type": "stream",
     "text": [
      "The hash is: 0000000399c6aea5ad0c709a9bc331a3ed6494702bd1d129d8c817a0257a1462\n",
      "The nonce is: 665783\n",
      "Time elapsed: 0:00:01.023536\n"
     ]
    }
   ],
   "source": [
    "t1 = datetime.datetime.now() \n",
    "nonce = 1 \n",
    "solution = False\n",
    "while solution == False:\n",
    "    ourhash = hashlib.sha256(str(nonce).encode()).hexdigest() \n",
    "    if ourhash[:7] == '0000000': \n",
    "        solution =True \n",
    "    nonce +=1 \n",
    "t2 = datetime.datetime.now() \n",
    "duration = t2 - t1 \n",
    "print (\"The hash is:\",ourhash)\n",
    "print (\"The nonce is:\",nonce)    \n",
    "print (\"Time elapsed:\",duration)"
   ]
  },
  {
   "cell_type": "code",
   "execution_count": 3,
   "id": "9c34e4ff-3491-4d59-bcf1-2941bed52ab6",
   "metadata": {},
   "outputs": [
    {
     "name": "stdout",
     "output_type": "stream",
     "text": [
      "The hash is: 00000000690ed426ccf17803ebe2bd0884bcd58a1bb5e7477ead3645f356e7a9\n",
      "The nonce is: 426479725\n",
      "Time elapsed: 0:11:09.025924\n"
     ]
    }
   ],
   "source": [
    "t1 = datetime.datetime.now() \n",
    "nonce = 1 \n",
    "solution = False\n",
    "while solution == False:\n",
    "    ourhash = hashlib.sha256(str(nonce).encode()).hexdigest() \n",
    "    if ourhash[:8] == '00000000': \n",
    "        solution =True \n",
    "    nonce +=1 \n",
    "t2 = datetime.datetime.now() \n",
    "duration = t2 - t1 \n",
    "print (\"The hash is:\",ourhash)\n",
    "print (\"The nonce is:\",nonce)    \n",
    "print (\"Time elapsed:\",duration)"
   ]
  },
  {
   "cell_type": "code",
   "execution_count": null,
   "id": "fb48a4fb-b2c2-4c7b-81bb-e4b91496e599",
   "metadata": {},
   "outputs": [],
   "source": []
  }
 ],
 "metadata": {
  "kernelspec": {
   "display_name": "Python 3",
   "language": "python",
   "name": "python3"
  },
  "language_info": {
   "codemirror_mode": {
    "name": "ipython",
    "version": 3
   },
   "file_extension": ".py",
   "mimetype": "text/x-python",
   "name": "python",
   "nbconvert_exporter": "python",
   "pygments_lexer": "ipython3",
   "version": "3.8.8"
  }
 },
 "nbformat": 4,
 "nbformat_minor": 5
}
