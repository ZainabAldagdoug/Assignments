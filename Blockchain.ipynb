{
 "cells": [
  {
   "cell_type": "code",
   "execution_count": 1,
   "id": "b18843e3-f6a6-48ae-a923-e5807ceab0db",
   "metadata": {},
   "outputs": [],
   "source": [
    "from hashlib import sha256\n",
    "import json\n",
    "import datetime"
   ]
  },
  {
   "cell_type": "code",
   "execution_count": 2,
   "id": "0f49baf5-093d-41fc-8c72-2dee6d73f428",
   "metadata": {},
   "outputs": [],
   "source": [
    "class Block:\n",
    "    def __init__(self, index, transactions, timestamp, previous_hash, nonce=0):\n",
    "        self.index = index\n",
    "        self.transactions = transactions\n",
    "        self.timestamp = timestamp\n",
    "        self.previous_hash = previous_hash\n",
    "        self.nonce = nonce\n",
    "    \n",
    "    def compute_hash(self):\n",
    "        block_string = json.dumps(self.__dict__, sort_keys=True)\n",
    "        return sha256(block_string.encode()).hexdigest()"
   ]
  },
  {
   "cell_type": "code",
   "execution_count": 3,
   "id": "71668410-b787-4962-bcbb-805888f871d2",
   "metadata": {},
   "outputs": [
    {
     "name": "stdout",
     "output_type": "stream",
     "text": [
      "<class '__main__.Block'>\n",
      "00d2d53531b955aa0b9dcbe679876f71155177cd52cdf0fb4f3e7b4c1aa7079b\n",
      "<class '__main__.Block'>\n",
      "002bdd0eb6242cce5e70296a4aa80232227a92b80bffffdd45a22a68b0ff9082\n",
      "<class '__main__.Block'>\n",
      "00253074205aa0ddcc1688b7bd8c831b18971596be7fbb15e18357907dc01545\n",
      "<class '__main__.Block'>\n",
      "003d667ae0cf39e7727cf7d72f709ba3283130e3e8bf921d32825b495b701d40\n",
      "<class '__main__.Block'>\n",
      "00b33e6f9db160f47dabd81cf47a83199488bfd8e51320a0ece3f083802556a8\n",
      "<class '__main__.Block'>\n",
      "0065dec25c14ca6e1c9779473af156ca01fe84093c23593f41fd0db5f3983d61\n",
      "<class '__main__.Block'>\n",
      "00e59f741e375d604270667f0a59e5a0ceefc9da16279cd6d6e09b9f01fa862f\n",
      "<class '__main__.Block'>\n",
      "009a134626c9c46f128ed3af1c4b5b23aa0a55828e1d9a6fabd00a7edbcddbdf\n",
      "<class '__main__.Block'>\n",
      "0041c7d96dd52aa191ffdf4bdc35b53541d6b6e31ceaf09e01e86ca8b7162453\n"
     ]
    }
   ],
   "source": [
    "class Blockchain: \n",
    "    def __init__(self):\n",
    "        self.unconfirmed_transactions = [\"Ty pays Brent 1000 BTC\"]\n",
    "        self.chain = []\n",
    "        self.difficulty = 2\n",
    "        self.create_genesis_block()\n",
    "        \n",
    "    def create_genesis_block(self):\n",
    "        genesis_block = Block(0, [], str(datetime.datetime.now()), \"0\")\n",
    "        genesis_block.hash = genesis_block.compute_hash()\n",
    "        self.chain.append(genesis_block)\n",
    "    \n",
    "    def last_block(self):\n",
    "        return self.chain[-1]\n",
    "    \n",
    "    def proof_of_work(self, block):\n",
    "        block.nonce = 1\n",
    "        computed_hash = block.compute_hash()\n",
    "        while not computed_hash.startswith('0' * self.difficulty):\n",
    "            block.nonce += 1\n",
    "            computed_hash = block.compute_hash()\n",
    "        return computed_hash\n",
    "    \n",
    "    def is_valid_proof(self, block, block_hash):\n",
    "        return (block_hash.startswith('0' * self.difficulty) and\n",
    "                block_hash == block.compute_hash())\n",
    "    \n",
    "    def add_block(self, block, proof):\n",
    "        previous_hash = self.chain[-1].hash\n",
    "        if previous_hash != block.previous_hash:\n",
    "            return False\n",
    "        if not self.is_valid_proof(block, proof):\n",
    "            return False\n",
    "        block.hash = proof\n",
    "        self.chain.append(block)\n",
    "        return True\n",
    "    \n",
    "    def add_new_transaction(self, transaction):\n",
    "            self.unconfirmed_transactions.append(transaction)\n",
    " \n",
    "    def mine(self):\n",
    "        if not self.unconfirmed_transactions:\n",
    "            return False\n",
    " \n",
    "        last_block = self.chain[-1]\n",
    "        print(type(last_block))\n",
    "        new_block = Block(last_block.index + 1, self.unconfirmed_transactions, str(datetime.datetime.now()),last_block.hash)\n",
    " \n",
    "        proof = self.proof_of_work(new_block)\n",
    "        self.add_block(new_block, proof)\n",
    "        self.unconfirmed_transactions = [\"Ty pays Brent 1000 BTC\"]\n",
    "        return new_block.index\n",
    "\n",
    "blockchain = Blockchain()  \n",
    "\n",
    "while len(blockchain.chain) < 10:\n",
    "    blockchain.mine()\n",
    "    print(blockchain.chain[-1].hash)\n"
   ]
  },
  {
   "cell_type": "code",
   "execution_count": null,
   "id": "321bb629-80e3-4fa9-87d4-5a570a743676",
   "metadata": {},
   "outputs": [],
   "source": []
  }
 ],
 "metadata": {
  "kernelspec": {
   "display_name": "Python 3",
   "language": "python",
   "name": "python3"
  },
  "language_info": {
   "codemirror_mode": {
    "name": "ipython",
    "version": 3
   },
   "file_extension": ".py",
   "mimetype": "text/x-python",
   "name": "python",
   "nbconvert_exporter": "python",
   "pygments_lexer": "ipython3",
   "version": "3.8.8"
  }
 },
 "nbformat": 4,
 "nbformat_minor": 5
}
